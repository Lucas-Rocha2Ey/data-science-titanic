{
 "cells": [
  {
   "cell_type": "code",
   "execution_count": 3,
   "id": "adb9a15b",
   "metadata": {},
   "outputs": [],
   "source": [
    "import numpy as np\n",
    "import pandas as pd\n",
    "import matplotlib.pyplot as plt\n",
    "import seaborn as sns "
   ]
  },
  {
   "cell_type": "code",
   "execution_count": 4,
   "id": "ee735229",
   "metadata": {},
   "outputs": [
    {
     "data": {
      "text/html": [
       "<div>\n",
       "<style scoped>\n",
       "    .dataframe tbody tr th:only-of-type {\n",
       "        vertical-align: middle;\n",
       "    }\n",
       "\n",
       "    .dataframe tbody tr th {\n",
       "        vertical-align: top;\n",
       "    }\n",
       "\n",
       "    .dataframe thead th {\n",
       "        text-align: right;\n",
       "    }\n",
       "</style>\n",
       "<table border=\"1\" class=\"dataframe\">\n",
       "  <thead>\n",
       "    <tr style=\"text-align: right;\">\n",
       "      <th></th>\n",
       "      <th>PassengerId</th>\n",
       "      <th>Survived</th>\n",
       "      <th>Pclass</th>\n",
       "      <th>Name</th>\n",
       "      <th>Sex</th>\n",
       "      <th>Age</th>\n",
       "      <th>SibSp</th>\n",
       "      <th>Parch</th>\n",
       "      <th>Ticket</th>\n",
       "      <th>Fare</th>\n",
       "      <th>Cabin</th>\n",
       "      <th>Embarked</th>\n",
       "    </tr>\n",
       "  </thead>\n",
       "  <tbody>\n",
       "    <tr>\n",
       "      <th>0</th>\n",
       "      <td>1</td>\n",
       "      <td>0</td>\n",
       "      <td>3</td>\n",
       "      <td>Braund, Mr. Owen Harris</td>\n",
       "      <td>male</td>\n",
       "      <td>22.0</td>\n",
       "      <td>1</td>\n",
       "      <td>0</td>\n",
       "      <td>A/5 21171</td>\n",
       "      <td>7.2500</td>\n",
       "      <td>NaN</td>\n",
       "      <td>S</td>\n",
       "    </tr>\n",
       "    <tr>\n",
       "      <th>1</th>\n",
       "      <td>2</td>\n",
       "      <td>1</td>\n",
       "      <td>1</td>\n",
       "      <td>Cumings, Mrs. John Bradley (Florence Briggs Th...</td>\n",
       "      <td>female</td>\n",
       "      <td>38.0</td>\n",
       "      <td>1</td>\n",
       "      <td>0</td>\n",
       "      <td>PC 17599</td>\n",
       "      <td>71.2833</td>\n",
       "      <td>C85</td>\n",
       "      <td>C</td>\n",
       "    </tr>\n",
       "    <tr>\n",
       "      <th>2</th>\n",
       "      <td>3</td>\n",
       "      <td>1</td>\n",
       "      <td>3</td>\n",
       "      <td>Heikkinen, Miss. Laina</td>\n",
       "      <td>female</td>\n",
       "      <td>26.0</td>\n",
       "      <td>0</td>\n",
       "      <td>0</td>\n",
       "      <td>STON/O2. 3101282</td>\n",
       "      <td>7.9250</td>\n",
       "      <td>NaN</td>\n",
       "      <td>S</td>\n",
       "    </tr>\n",
       "    <tr>\n",
       "      <th>3</th>\n",
       "      <td>4</td>\n",
       "      <td>1</td>\n",
       "      <td>1</td>\n",
       "      <td>Futrelle, Mrs. Jacques Heath (Lily May Peel)</td>\n",
       "      <td>female</td>\n",
       "      <td>35.0</td>\n",
       "      <td>1</td>\n",
       "      <td>0</td>\n",
       "      <td>113803</td>\n",
       "      <td>53.1000</td>\n",
       "      <td>C123</td>\n",
       "      <td>S</td>\n",
       "    </tr>\n",
       "    <tr>\n",
       "      <th>4</th>\n",
       "      <td>5</td>\n",
       "      <td>0</td>\n",
       "      <td>3</td>\n",
       "      <td>Allen, Mr. William Henry</td>\n",
       "      <td>male</td>\n",
       "      <td>35.0</td>\n",
       "      <td>0</td>\n",
       "      <td>0</td>\n",
       "      <td>373450</td>\n",
       "      <td>8.0500</td>\n",
       "      <td>NaN</td>\n",
       "      <td>S</td>\n",
       "    </tr>\n",
       "  </tbody>\n",
       "</table>\n",
       "</div>"
      ],
      "text/plain": [
       "   PassengerId  Survived  Pclass  \\\n",
       "0            1         0       3   \n",
       "1            2         1       1   \n",
       "2            3         1       3   \n",
       "3            4         1       1   \n",
       "4            5         0       3   \n",
       "\n",
       "                                                Name     Sex   Age  SibSp  \\\n",
       "0                            Braund, Mr. Owen Harris    male  22.0      1   \n",
       "1  Cumings, Mrs. John Bradley (Florence Briggs Th...  female  38.0      1   \n",
       "2                             Heikkinen, Miss. Laina  female  26.0      0   \n",
       "3       Futrelle, Mrs. Jacques Heath (Lily May Peel)  female  35.0      1   \n",
       "4                           Allen, Mr. William Henry    male  35.0      0   \n",
       "\n",
       "   Parch            Ticket     Fare Cabin Embarked  \n",
       "0      0         A/5 21171   7.2500   NaN        S  \n",
       "1      0          PC 17599  71.2833   C85        C  \n",
       "2      0  STON/O2. 3101282   7.9250   NaN        S  \n",
       "3      0            113803  53.1000  C123        S  \n",
       "4      0            373450   8.0500   NaN        S  "
      ]
     },
     "execution_count": 4,
     "metadata": {},
     "output_type": "execute_result"
    }
   ],
   "source": [
    "#carregando os dados\n",
    "\n",
    "dadosTreino=pd.read_csv(\"./train.csv\")\n",
    "\n",
    "dadosTreino.head()"
   ]
  },
  {
   "cell_type": "code",
   "execution_count": 5,
   "id": "0e7b2c53",
   "metadata": {},
   "outputs": [
    {
     "name": "stdout",
     "output_type": "stream",
     "text": [
      "<class 'pandas.core.frame.DataFrame'>\n",
      "RangeIndex: 891 entries, 0 to 890\n",
      "Data columns (total 12 columns):\n",
      " #   Column       Non-Null Count  Dtype  \n",
      "---  ------       --------------  -----  \n",
      " 0   PassengerId  891 non-null    int64  \n",
      " 1   Survived     891 non-null    int64  \n",
      " 2   Pclass       891 non-null    int64  \n",
      " 3   Name         891 non-null    object \n",
      " 4   Sex          891 non-null    object \n",
      " 5   Age          714 non-null    float64\n",
      " 6   SibSp        891 non-null    int64  \n",
      " 7   Parch        891 non-null    int64  \n",
      " 8   Ticket       891 non-null    object \n",
      " 9   Fare         891 non-null    float64\n",
      " 10  Cabin        204 non-null    object \n",
      " 11  Embarked     889 non-null    object \n",
      "dtypes: float64(2), int64(5), object(5)\n",
      "memory usage: 83.7+ KB\n"
     ]
    }
   ],
   "source": [
    "dadosTreino.info()"
   ]
  },
  {
   "cell_type": "code",
   "execution_count": 6,
   "id": "282b03ef",
   "metadata": {},
   "outputs": [
    {
     "data": {
      "text/plain": [
       "'dados que podem ter relação com a sobrevivencia - Survived, Pclass (classe 1  \\nteve mais chance de sobrevivencia que classe 3?), Sexo, Age, numero de irmãos\\ne parch - pais e filhos a bordo. Fare ticket pode ter relação com a classe'"
      ]
     },
     "execution_count": 6,
     "metadata": {},
     "output_type": "execute_result"
    }
   ],
   "source": [
    "'''dados que podem ter relação com a sobrevivencia - Survived, Pclass (classe 1  \n",
    "teve mais chance de sobrevivencia que classe 3?), Sexo, Age, numero de irmãos\n",
    "e parch - pais e filhos a bordo. Fare ticket pode ter relação com a classe'''"
   ]
  },
  {
   "cell_type": "code",
   "execution_count": 7,
   "id": "09c0ba77",
   "metadata": {},
   "outputs": [
    {
     "name": "stdout",
     "output_type": "stream",
     "text": [
      "0    549\n",
      "1    342\n",
      "Name: Survived, dtype: int64\n"
     ]
    }
   ],
   "source": [
    "#quantos sobreviveram?\n",
    "print(dadosTreino.Survived.value_counts())\n"
   ]
  },
  {
   "cell_type": "code",
   "execution_count": 8,
   "id": "040a30fd",
   "metadata": {},
   "outputs": [
    {
     "data": {
      "text/plain": [
       "count    714.000000\n",
       "mean      29.699118\n",
       "std       14.526497\n",
       "min        0.420000\n",
       "25%       20.125000\n",
       "50%       28.000000\n",
       "75%       38.000000\n",
       "max       80.000000\n",
       "Name: Age, dtype: float64"
      ]
     },
     "execution_count": 8,
     "metadata": {},
     "output_type": "execute_result"
    }
   ],
   "source": [
    "#Estatistica sobre a idade das pessoas\n",
    "dadosTreino[\"Age\"].describe()"
   ]
  },
  {
   "cell_type": "code",
   "execution_count": 9,
   "id": "c4c333b3",
   "metadata": {},
   "outputs": [
    {
     "data": {
      "text/plain": [
       "male      577\n",
       "female    314\n",
       "Name: Sex, dtype: int64"
      ]
     },
     "execution_count": 9,
     "metadata": {},
     "output_type": "execute_result"
    }
   ],
   "source": [
    "#Estatistica sobre sexo\n",
    "dadosTreino[\"Sex\"].value_counts()\n"
   ]
  },
  {
   "cell_type": "code",
   "execution_count": 10,
   "id": "7653fde6",
   "metadata": {},
   "outputs": [
    {
     "data": {
      "text/html": [
       "<div>\n",
       "<style scoped>\n",
       "    .dataframe tbody tr th:only-of-type {\n",
       "        vertical-align: middle;\n",
       "    }\n",
       "\n",
       "    .dataframe tbody tr th {\n",
       "        vertical-align: top;\n",
       "    }\n",
       "\n",
       "    .dataframe thead th {\n",
       "        text-align: right;\n",
       "    }\n",
       "</style>\n",
       "<table border=\"1\" class=\"dataframe\">\n",
       "  <thead>\n",
       "    <tr style=\"text-align: right;\">\n",
       "      <th></th>\n",
       "      <th>Survived</th>\n",
       "      <th>Sex</th>\n",
       "    </tr>\n",
       "  </thead>\n",
       "  <tbody>\n",
       "    <tr>\n",
       "      <th>0</th>\n",
       "      <td>0</td>\n",
       "      <td>male</td>\n",
       "    </tr>\n",
       "    <tr>\n",
       "      <th>4</th>\n",
       "      <td>0</td>\n",
       "      <td>male</td>\n",
       "    </tr>\n",
       "    <tr>\n",
       "      <th>5</th>\n",
       "      <td>0</td>\n",
       "      <td>male</td>\n",
       "    </tr>\n",
       "    <tr>\n",
       "      <th>6</th>\n",
       "      <td>0</td>\n",
       "      <td>male</td>\n",
       "    </tr>\n",
       "    <tr>\n",
       "      <th>7</th>\n",
       "      <td>0</td>\n",
       "      <td>male</td>\n",
       "    </tr>\n",
       "    <tr>\n",
       "      <th>12</th>\n",
       "      <td>0</td>\n",
       "      <td>male</td>\n",
       "    </tr>\n",
       "    <tr>\n",
       "      <th>13</th>\n",
       "      <td>0</td>\n",
       "      <td>male</td>\n",
       "    </tr>\n",
       "    <tr>\n",
       "      <th>16</th>\n",
       "      <td>0</td>\n",
       "      <td>male</td>\n",
       "    </tr>\n",
       "    <tr>\n",
       "      <th>17</th>\n",
       "      <td>1</td>\n",
       "      <td>male</td>\n",
       "    </tr>\n",
       "    <tr>\n",
       "      <th>20</th>\n",
       "      <td>0</td>\n",
       "      <td>male</td>\n",
       "    </tr>\n",
       "  </tbody>\n",
       "</table>\n",
       "</div>"
      ],
      "text/plain": [
       "    Survived   Sex\n",
       "0          0  male\n",
       "4          0  male\n",
       "5          0  male\n",
       "6          0  male\n",
       "7          0  male\n",
       "12         0  male\n",
       "13         0  male\n",
       "16         0  male\n",
       "17         1  male\n",
       "20         0  male"
      ]
     },
     "execution_count": 10,
     "metadata": {},
     "output_type": "execute_result"
    }
   ],
   "source": [
    "filtro = dadosTreino[\"Sex\"] == 'male'\n",
    "dadosTreino[[\"Survived\", \"Sex\"]][filtro].head(10)"
   ]
  },
  {
   "cell_type": "code",
   "execution_count": 26,
   "id": "6e03e496",
   "metadata": {},
   "outputs": [
    {
     "name": "stdout",
     "output_type": "stream",
     "text": [
      " 19% dos homens sobreviveram ao titanic\n",
      " 81% dos homens NÃO sobreviveram ao titanic\n"
     ]
    }
   ],
   "source": [
    "#quantos homens sobreviveram??\n",
    "men = dadosTreino[[\"Survived\", \"Sex\"]][filtro]\n",
    "#81% dos homens não sobreviveram \n",
    "\n",
    "menSurvived = mens[mens[\"Survived\"] == 1]\n",
    "\n",
    "print(\" {}% dos homens sobreviveram ao titanic\".format(round(len(mensSurvived)/len(men) * 100), 2))\n",
    "print(\" {}% dos homens NÃO sobreviveram ao titanic\".format(round(100 - (len(mensSurvived)/len(men) * 100)), 2))"
   ]
  },
  {
   "cell_type": "markdown",
   "id": "491fa08a",
   "metadata": {},
   "source": []
  },
  {
   "cell_type": "code",
   "execution_count": 27,
   "id": "e882b220",
   "metadata": {},
   "outputs": [
    {
     "name": "stdout",
     "output_type": "stream",
     "text": [
      " 74% das mulheres sobreviveram ao titanic\n",
      " 26% das mulheres NÃO sobreviveram ao titanic\n"
     ]
    }
   ],
   "source": [
    "# quantas mulheres sobreviveram??\n",
    "filtro2 = dadosTreino[\"Sex\"] == 'female'\n",
    "\n",
    "women = dadosTreino[[\"Survived\", \"Sex\"]][filtro2]\n",
    "womenSurvived = women[women.Survived == 1]\n",
    "\n",
    "print(\" {}% das mulheres sobreviveram ao titanic\".format(round(len(womenSurvived)/len(women) * 100), 2))\n",
    "print(\" {}% das mulheres NÃO sobreviveram ao titanic\".format(round(100 - (len(womenSurvived)/len(women) * 100)), 2))"
   ]
  },
  {
   "cell_type": "code",
   "execution_count": 24,
   "id": "3d93a5d4",
   "metadata": {},
   "outputs": [
    {
     "data": {
      "text/plain": [
       "[Text(0, 0, 'Sim'), Text(1, 0, 'Não')]"
      ]
     },
     "execution_count": 24,
     "metadata": {},
     "output_type": "execute_result"
    },
    {
     "data": {
      "image/png": "[encoded data removed]",
      "text/plain": [
       "<Figure size 432x288 with 1 Axes>"
      ]
     },
     "metadata": {
      "needs_background": "light"
     },
     "output_type": "display_data"
    }
   ],
   "source": [
    "g2 = dadosTreino[[\"Survived\", \"Sex\"]][filtro2].value_counts().plot(kind=\"bar\", color=\"pink\")\n",
    "plt.title(\"Mulheres que sobreviveram ao titanic\")\n",
    "plt.xlabel(\"Mulheres\")\n",
    "plt.ylabel(\"Quantidade\")\n",
    "\n",
    "#Mudando os labels do gráfico\n",
    "labels = [item.get_text() for item in g2.get_xticklabels()]\n",
    "labels[0] = \"Sim\"\n",
    "labels[1] = \"Não\"\n",
    "g2.set_xticklabels(labels)"
   ]
  },
  {
   "cell_type": "raw",
   "id": "833b40b3",
   "metadata": {},
   "source": [
    "g1 = dadosTreino[[\"Survived\", \"Sex\"]][filtro].value_counts().plot(kind=\"bar\")\n",
    "plt.title(\"Homens que sobreviveram ao titanic\")\n",
    "plt.xlabel(\"Homens\")\n",
    "plt.ylabel(\"Quantidade\")\n",
    "\n",
    "#Mudando os labels do gráfico\n",
    "labels = [item.get_text() for item in g1.get_xticklabels()]\n",
    "labels[0] = \"Não\"\n",
    "labels[1] = \"Sim\"\n",
    "g1.set_xticklabels(labels)"
   ]
  },
  {
   "cell_type": "code",
   "execution_count": 29,
   "id": "1a9a1214",
   "metadata": {},
   "outputs": [
    {
     "data": {
      "text/plain": [
       "<matplotlib.legend.Legend at 0x1fadcdf0d90>"
      ]
     },
     "execution_count": 29,
     "metadata": {},
     "output_type": "execute_result"
    },
    {
     "data": {
      "image/png": "[encoded data removed]",
      "text/plain": [
       "<Figure size 432x288 with 1 Axes>"
      ]
     },
     "metadata": {
      "needs_background": "light"
     },
     "output_type": "display_data"
    }
   ],
   "source": [
    "g1 = dadosTreino[\"Survived\"][filtro].value_counts()\n",
    "g2 = dadosTreino[\"Survived\"][filtro2].value_counts()\n",
    "\n",
    "homensNaoSobreviveram = g1[0]\n",
    "homensSobreviveram = g1[1]\n",
    "mulheresSobreviveram = g2[1]\n",
    "mulheresNaoSobreviveram = g2[0]\n",
    "\n",
    "index = [\"Homens\", \"Mulheres\"]\n",
    "\n",
    "plt.bar(index, [homensNaoSobreviveram, mulheresNaoSobreviveram], color='red', label=\"Não Sobreviveram\")\n",
    "plt.bar(index, [homensSobreviveram, mulheresSobreviveram], bottom=[homensNaoSobreviveram, mulheresNaoSobreviveram],  color='blue', label=\"Sobreviveram\")\n",
    "plt.title(\"Homens e mulheres que sobreviveram ao titanic\")\n",
    "plt.legend(loc=\"upper right\") #deve colocar o label na bar e, ai sim, chamar a função de legenda\n"
   ]
  },
  {
   "cell_type": "code",
   "execution_count": 30,
   "id": "cfc53f3f",
   "metadata": {},
   "outputs": [
    {
     "data": {
      "text/plain": [
       "Text(0.5, 1.0, 'Distribuição das pessoas por idade')"
      ]
     },
     "execution_count": 30,
     "metadata": {},
     "output_type": "execute_result"
    },
    {
     "data": {
      "image/png": "[encoded data removed]",
      "text/plain": [
       "<Figure size 432x288 with 1 Axes>"
      ]
     },
     "metadata": {
      "needs_background": "light"
     },
     "output_type": "display_data"
    }
   ],
   "source": [
    "dadosTreino[\"Age\"].hist(bins=50, grid=False, ec='black') #ec adiciona as linhas\n",
    "plt.title(\"Distribuição das pessoas por idade\")\n"
   ]
  },
  {
   "cell_type": "code",
   "execution_count": 31,
   "id": "f02525d1",
   "metadata": {},
   "outputs": [
    {
     "data": {
      "text/plain": [
       "3    491\n",
       "1    216\n",
       "2    184\n",
       "Name: Pclass, dtype: int64"
      ]
     },
     "execution_count": 31,
     "metadata": {},
     "output_type": "execute_result"
    }
   ],
   "source": [
    "dadosTreino[\"Pclass\"].value_counts()"
   ]
  },
  {
   "cell_type": "code",
   "execution_count": 32,
   "id": "f32e713a",
   "metadata": {},
   "outputs": [
    {
     "name": "stdout",
     "output_type": "stream",
     "text": [
      "[80, 136]\n",
      "[97, 87]\n",
      "[372, 119]\n"
     ]
    },
    {
     "data": {
      "text/plain": [
       "Text(0, 0.5, 'Quantidade de pessoas')"
      ]
     },
     "execution_count": 32,
     "metadata": {},
     "output_type": "execute_result"
    },
    {
     "data": {
      "image/png": "[encoded data removed]",
      "text/plain": [
       "<Figure size 432x288 with 1 Axes>"
      ]
     },
     "metadata": {
      "needs_background": "light"
     },
     "output_type": "display_data"
    }
   ],
   "source": [
    "df= dadosTreino[[\"Survived\", \"Pclass\"]]\n",
    "primeiraClasse = [0, 0] #primeiro numero sao aqueles que nao sobreviveram e o segundo numero aqueles que sobreviveram\n",
    "segundaClasse = [0,0] \n",
    "terceiraClasse = [0,0]\n",
    "\n",
    "for i in range (0, len(df.index)): #len(df.index) é o jeito pra iterar cada linha do dataFrame\n",
    "    if df.at[i, \"Pclass\"] == 1:\n",
    "        if df.at[i,\"Survived\"] == 0:\n",
    "            primeiraClasse[0] += 1;\n",
    "        else:\n",
    "            primeiraClasse[1] += 1;\n",
    "    elif df.at[i, \"Pclass\"] == 2:\n",
    "        if df.at[i,\"Survived\"] == 0:\n",
    "            segundaClasse[0] += 1;\n",
    "        else:\n",
    "            segundaClasse[1] += 1;\n",
    "    else:\n",
    "        if df.at[i,\"Survived\"] == 0:\n",
    "            terceiraClasse[0] += 1;\n",
    "        else:\n",
    "            terceiraClasse[1] += 1;\n",
    "    \n",
    "        \n",
    "print(primeiraClasse)\n",
    "print(segundaClasse)\n",
    "print(terceiraClasse)\n",
    "\n",
    "labels=[\"Primeira Classe\", \"Segunda Classe\", \"Terceira Classe\"]\n",
    "\n",
    "plt.bar(labels, [primeiraClasse[0], segundaClasse[0], terceiraClasse[0]], color='red', label=\"Não sobreviveram\")\n",
    "plt.bar(labels, [primeiraClasse[1], segundaClasse[1], terceiraClasse[1]], bottom=[primeiraClasse[0], segundaClasse[0], terceiraClasse[0]], color='#A6F780', label=\"Sobreviveram\")\n",
    "plt.legend(loc=\"upper left\")\n",
    "plt.title(\"Pessoas que sobreviveram por classe\")\n",
    "plt.xlabel(\"Classes\")\n",
    "plt.ylabel(\"Quantidade de pessoas\")\n",
    "\n"
   ]
  },
  {
   "cell_type": "code",
   "execution_count": 33,
   "id": "d1ff9bb1",
   "metadata": {},
   "outputs": [],
   "source": [
    "df2 = pd.DataFrame({'nao sobreviveram':  [primeiraClasse[0], segundaClasse[0], terceiraClasse[0]], \n",
    "                    'sobreviveram': [primeiraClasse[1], segundaClasse[1], terceiraClasse[1]]}, index=labels)\n"
   ]
  },
  {
   "cell_type": "code",
   "execution_count": 34,
   "id": "1bceacfb",
   "metadata": {},
   "outputs": [
    {
     "data": {
      "image/png": "[encoded data removed]",
      "text/plain": [
       "<Figure size 432x288 with 1 Axes>"
      ]
     },
     "metadata": {
      "needs_background": "light"
     },
     "output_type": "display_data"
    }
   ],
   "source": [
    "ax = df2.plot.bar(rot=0, stacked=True, color=['red', '#A6F780'], xlabel=\"Classes\", ylabel=\"Quantidade\")\n",
    "plt.title(\"Pessoas que sobreviveram por classe\")\n",
    "\n",
    "#Código para colocar o texto no meio da tela\n",
    "for c in ax.containers:\n",
    "\n",
    "    # Optional: if the segment is small or 0, customize the labels\n",
    "    labels = [v.get_height() if v.get_height() > 0 else '' for v in c]\n",
    "    \n",
    "    # remove the labels parameter if it's not needed for customized labels\n",
    "    ax.bar_label(c, labels=labels, label_type='center')"
   ]
  },
  {
   "cell_type": "code",
   "execution_count": 35,
   "id": "ba877d68",
   "metadata": {},
   "outputs": [
    {
     "name": "stdout",
     "output_type": "stream",
     "text": [
      "Pclass  Sex   \n",
      "1       female    0.968085\n",
      "        male      0.368852\n",
      "2       female    0.921053\n",
      "        male      0.157407\n",
      "3       female    0.500000\n",
      "        male      0.135447\n",
      "Name: Survived, dtype: float64\n"
     ]
    }
   ],
   "source": [
    "print(dadosTreino.groupby([\"Pclass\", \"Sex\"]).Survived.mean())\n",
    "\n",
    "#se for mulher da primeira classe teria 96% de chances de sobrevivência ao passo que homens na terceira classe teve 13%"
   ]
  },
  {
   "cell_type": "code",
   "execution_count": 36,
   "id": "71d5fcb5",
   "metadata": {},
   "outputs": [
    {
     "name": "stdout",
     "output_type": "stream",
     "text": [
      "17\n",
      "21\n",
      "23\n",
      "36\n",
      "55\n",
      "65\n",
      "74\n",
      "78\n",
      "81\n",
      "97\n",
      "107\n",
      "125\n",
      "127\n",
      "146\n",
      "165\n",
      "183\n",
      "187\n",
      "193\n",
      "204\n",
      "207\n",
      "209\n",
      "220\n",
      "224\n",
      "226\n",
      "248\n",
      "261\n",
      "267\n",
      "271\n",
      "283\n",
      "286\n",
      "288\n",
      "298\n",
      "301\n",
      "305\n",
      "338\n",
      "340\n",
      "348\n",
      "370\n",
      "390\n",
      "391\n",
      "400\n",
      "407\n",
      "414\n",
      "429\n",
      "430\n",
      "444\n",
      "445\n",
      "447\n",
      "449\n",
      "453\n",
      "455\n",
      "460\n",
      "484\n",
      "489\n",
      "507\n",
      "509\n",
      "510\n",
      "512\n",
      "543\n",
      "547\n",
      "549\n",
      "550\n",
      "553\n",
      "569\n",
      "570\n",
      "572\n",
      "579\n",
      "587\n",
      "599\n",
      "604\n",
      "607\n",
      "621\n",
      "622\n",
      "630\n",
      "632\n",
      "643\n",
      "645\n",
      "647\n",
      "660\n",
      "664\n",
      "673\n",
      "679\n",
      "681\n",
      "690\n",
      "692\n",
      "701\n",
      "707\n",
      "709\n",
      "712\n",
      "724\n",
      "737\n",
      "740\n",
      "744\n",
      "751\n",
      "755\n",
      "762\n",
      "788\n",
      "802\n",
      "803\n",
      "804\n",
      "821\n",
      "827\n",
      "828\n",
      "831\n",
      "838\n",
      "839\n",
      "857\n",
      "869\n",
      "889\n"
     ]
    }
   ],
   "source": [
    "df4 = dadosTreino[[\"Age\", \"Survived\"]][(dadosTreino.Sex=='male') & (dadosTreino.Survived==1)]\n",
    "df4.index\n",
    "for i in df4.index: #estou imprimindo todos os index do DataFrame\n",
    "    print(i)"
   ]
  },
  {
   "cell_type": "code",
   "execution_count": 37,
   "id": "49429cb2",
   "metadata": {},
   "outputs": [
    {
     "name": "stdout",
     "output_type": "stream",
     "text": [
      "['Homens', 19, 10, 23, 23, 12, 4, 18]\n",
      "['Mulheres', 19, 34, 61, 46, 21, 13, 39]\n"
     ]
    }
   ],
   "source": [
    "df4 = dadosTreino[[\"Age\", \"Survived\"]][(dadosTreino.Sex=='male') & (dadosTreino.Survived==1)]\n",
    "\n",
    "bin = ['Homens', 0,0,0,0,0,0,0] #vou categorizar aqui os resultados de quantos homens sobreviveram por faixa de idade.\n",
    "'''\n",
    "bin[1] - menor de 10 anos\n",
    "bin[2] - 11 a 20 anos\n",
    "bin[3] - 21 a 30 anos\n",
    "bin[4] - 31 a 40 anos\n",
    "bin[5] - 41 a 50 anos\n",
    "bin[6] - 51 a 60 anos\n",
    "bin[7] - acima de 60 anos\n",
    "\n",
    "'''\n",
    "\n",
    "for i in df4.index: #len(df.index) é uma lista com todos os indexes\n",
    "    if df4.at[i,\"Age\"] <= 10:\n",
    "        bin[1] += 1\n",
    "    elif 10 < df4.at[i,\"Age\"] <= 20:\n",
    "        bin[2] += 1\n",
    "    elif 20 < df4.at[i,\"Age\"] <= 30:\n",
    "        bin[3] += 1\n",
    "    elif 30 < df4.at[i,\"Age\"] <= 40:\n",
    "        bin[4] += 1\n",
    "    elif 40 < df4.at[i,\"Age\"] <= 50:\n",
    "        bin[5] += 1\n",
    "    elif 50 < df4.at[i,\"Age\"] <= 60:\n",
    "        bin[6] += 1\n",
    "    else:\n",
    "        bin[7] += 1\n",
    "\n",
    "print(bin)\n",
    "\n",
    "df4_2 = dadosTreino[[\"Age\", \"Survived\"]][(dadosTreino.Sex=='female') & (dadosTreino.Survived==1)]\n",
    "\n",
    "bin_F = ['Mulheres',0,0,0,0,0,0,0] #vou categorizar aqui os resultados de quantos homens sobreviveram por faixa de idade.\n",
    "'''\n",
    "bin[1] - menor de 10 anos\n",
    "bin[2] - 11 a 20 anos\n",
    "bin[3] - 21 a 30 anos\n",
    "bin[4] - 31 a 40 anos\n",
    "bin[5] - 41 a 50 anos\n",
    "bin[6] - 51 a 60 anos\n",
    "bin[7] - acima de 60 anos\n",
    "\n",
    "'''\n",
    "\n",
    "for i in df4_2.index: #len(df.index) é uma lista com todos os indexes\n",
    "    if df4_2.at[i,\"Age\"] <= 10:\n",
    "        bin_F[1] += 1\n",
    "    elif 10 < df4_2.at[i,\"Age\"] <= 20:\n",
    "        bin_F[2] += 1\n",
    "    elif 20 < df4_2.at[i,\"Age\"] <= 30:\n",
    "        bin_F[3] += 1\n",
    "    elif 30 < df4_2.at[i,\"Age\"] <= 40:\n",
    "        bin_F[4] += 1\n",
    "    elif 40 < df4_2.at[i,\"Age\"] <= 50:\n",
    "        bin_F[5] += 1\n",
    "    elif 50 < df4_2.at[i,\"Age\"] <= 60:\n",
    "        bin_F[6] += 1\n",
    "    else:\n",
    "        bin_F[7] += 1\n",
    "\n",
    "print(bin_F)\n",
    "    \n",
    "labelsHist = [\"sexo\", \"menor de 10 anos\", \"11 a 20 anos\", \"21 a 30 anos\", \"31 a 40 anos\", \"41 a 50 anos\", \"51 a 60 anos\", \"acima de 60 anos\"]\n",
    "\n",
    "\n"
   ]
  },
  {
   "cell_type": "code",
   "execution_count": 38,
   "id": "49c4acdb",
   "metadata": {},
   "outputs": [
    {
     "data": {
      "text/html": [
       "<div>\n",
       "<style scoped>\n",
       "    .dataframe tbody tr th:only-of-type {\n",
       "        vertical-align: middle;\n",
       "    }\n",
       "\n",
       "    .dataframe tbody tr th {\n",
       "        vertical-align: top;\n",
       "    }\n",
       "\n",
       "    .dataframe thead th {\n",
       "        text-align: right;\n",
       "    }\n",
       "</style>\n",
       "<table border=\"1\" class=\"dataframe\">\n",
       "  <thead>\n",
       "    <tr style=\"text-align: right;\">\n",
       "      <th></th>\n",
       "      <th>sexo</th>\n",
       "      <th>menor de 10 anos</th>\n",
       "      <th>11 a 20 anos</th>\n",
       "      <th>21 a 30 anos</th>\n",
       "      <th>31 a 40 anos</th>\n",
       "      <th>41 a 50 anos</th>\n",
       "      <th>51 a 60 anos</th>\n",
       "      <th>acima de 60 anos</th>\n",
       "    </tr>\n",
       "  </thead>\n",
       "  <tbody>\n",
       "    <tr>\n",
       "      <th>0</th>\n",
       "      <td>Homens</td>\n",
       "      <td>19</td>\n",
       "      <td>10</td>\n",
       "      <td>23</td>\n",
       "      <td>23</td>\n",
       "      <td>12</td>\n",
       "      <td>4</td>\n",
       "      <td>18</td>\n",
       "    </tr>\n",
       "    <tr>\n",
       "      <th>1</th>\n",
       "      <td>Mulheres</td>\n",
       "      <td>19</td>\n",
       "      <td>34</td>\n",
       "      <td>61</td>\n",
       "      <td>46</td>\n",
       "      <td>21</td>\n",
       "      <td>13</td>\n",
       "      <td>39</td>\n",
       "    </tr>\n",
       "  </tbody>\n",
       "</table>\n",
       "</div>"
      ],
      "text/plain": [
       "       sexo  menor de 10 anos  11 a 20 anos  21 a 30 anos  31 a 40 anos  \\\n",
       "0    Homens                19            10            23            23   \n",
       "1  Mulheres                19            34            61            46   \n",
       "\n",
       "   41 a 50 anos  51 a 60 anos  acima de 60 anos  \n",
       "0            12             4                18  \n",
       "1            21            13                39  "
      ]
     },
     "execution_count": 38,
     "metadata": {},
     "output_type": "execute_result"
    }
   ],
   "source": [
    "df5 = pd.DataFrame(data=[bin, bin_F], columns=labelsHist) #0 = sobreviventes homens, 1- sobreviventes mulheres\n",
    "df5"
   ]
  },
  {
   "cell_type": "code",
   "execution_count": 61,
   "id": "585879ad",
   "metadata": {},
   "outputs": [
    {
     "data": {
      "image/png": "[encoded data removed]",
      "text/plain": [
       "<Figure size 936x432 with 1 Axes>"
      ]
     },
     "metadata": {
      "needs_background": "light"
     },
     "output_type": "display_data"
    }
   ],
   "source": [
    "paletaCores = [\"#80D7F7\", \"#80C5F7\", \"#80B1F7\", \"#8090F7\", \"#9880F7\", \"#BB80F7\", \"#DE80F7\" ]\n",
    "\n",
    "ax = df5.plot(kind=\"bar\", title=\"Quantidade de sobreviventes por idade e sexo\", figsize=(13,6), color=paletaCores)\n",
    "ax.set_xlabel(\"Sexo\", fontsize=16)\n",
    "ax.set_ylabel(\"Quantidade\", fontsize=16)\n",
    "\n",
    "#mudando labels\n",
    "labels = [item.get_text() for item in ax.get_xticklabels()]\n",
    "labels[0] = \"Homens\"\n",
    "labels[1] = \"Mulheres\"\n",
    "ax.set_xticklabels(labels)\n",
    "\n",
    "#mudando os parâmetros do meu gráfico (ticks sao os traços em cima do axis do gráfico. Em x é 'Homens' e 'Mulheres' e y é '0...60')\n",
    "ax.tick_params(axis='x', labelsize=15, labelrotation=0)\n",
    "ax.tick_params(axis='y', labelsize=12)\n",
    "\n",
    "#alterando o tamanho do texto do titulo\n",
    "ax.title.set_fontsize(16)\n",
    "\n"
   ]
  },
  {
   "cell_type": "code",
   "execution_count": 42,
   "id": "f18885f5",
   "metadata": {},
   "outputs": [
    {
     "ename": "NameError",
     "evalue": "name 'item' is not defined",
     "output_type": "error",
     "traceback": [
      "\u001b[1;31m---------------------------------------------------------------------------\u001b[0m",
      "\u001b[1;31mNameError\u001b[0m                                 Traceback (most recent call last)",
      "\u001b[1;32m~\\AppData\\Local\\Temp/ipykernel_13560/1898497859.py\u001b[0m in \u001b[0;36m<module>\u001b[1;34m\u001b[0m\n\u001b[1;32m----> 1\u001b[1;33m \u001b[0mhelp\u001b[0m\u001b[1;33m(\u001b[0m\u001b[0mitem\u001b[0m\u001b[1;33m)\u001b[0m\u001b[1;33m\u001b[0m\u001b[1;33m\u001b[0m\u001b[0m\n\u001b[0m",
      "\u001b[1;31mNameError\u001b[0m: name 'item' is not defined"
     ]
    }
   ],
   "source": []
  },
  {
   "cell_type": "code",
   "execution_count": 239,
   "id": "390b5910",
   "metadata": {},
   "outputs": [
    {
     "data": {
      "text/plain": [
       "Index(['sexo', 'menor de 10 anos', '11 a 20 anos', '21 a 30 anos',\n",
       "       '31 a 40 anos', '41 a 50 anos', '51 a 60 anos', 'acima de 60 anos'],\n",
       "      dtype='object')"
      ]
     },
     "execution_count": 239,
     "metadata": {},
     "output_type": "execute_result"
    }
   ],
   "source": [
    "\n"
   ]
  },
  {
   "cell_type": "code",
   "execution_count": null,
   "id": "29b4b0f5",
   "metadata": {},
   "outputs": [],
   "source": []
  }
 ],
 "metadata": {
  "kernelspec": {
   "display_name": "Python 3 (ipykernel)",
   "language": "python",
   "name": "python3"
  },
  "language_info": {
   "codemirror_mode": {
    "name": "ipython",
    "version": 3
   },
   "file_extension": ".py",
   "mimetype": "text/x-python",
   "name": "python",
   "nbconvert_exporter": "python",
   "pygments_lexer": "ipython3",
   "version": "3.9.7"
  }
 },
 "nbformat": 4,
 "nbformat_minor": 5
}
